{
 "cells": [
  {
   "cell_type": "markdown",
   "metadata": {},
   "source": [
    "### Imports"
   ]
  },
  {
   "cell_type": "code",
   "execution_count": 1,
   "metadata": {},
   "outputs": [],
   "source": [
    "import numpy as np\n",
    "from specmf.models import Graph, MultiFidelityModel\n",
    "from specmf.utils import error_analysis, load_model_config\n",
    "from specmf.data import load_data\n",
    "from specmf.plot import *"
   ]
  },
  {
   "cell_type": "code",
   "execution_count": null,
   "metadata": {},
   "outputs": [],
   "source": [
    "%%html\n",
    "<style type='text/css'>\n",
    ".CodeMirror{\n",
    "font-size: 14px;\n",
    "</style>"
   ]
  },
  {
   "cell_type": "markdown",
   "metadata": {},
   "source": [
    "### Data loading"
   ]
  },
  {
   "cell_type": "code",
   "execution_count": null,
   "metadata": {},
   "outputs": [],
   "source": [
    "dataset_names = [\n",
    "    \"darcy-flow\", \n",
    "    \"inclusion-field\", \n",
    "    \"inclusion-qoi\",\n",
    "    \"beam\",\n",
    "    \"cavity\",\n",
    "    \"burgers\",\n",
    "]\n",
    "\n",
    "dataset_name = dataset_names[0]\n",
    "\n",
    "x_LF, x_HF = load_data(\n",
    "    dataset_name,\n",
    "    preprocess=True,\n",
    "    normalize=True, \n",
    "    flatten=True,\n",
    "    )\n",
    "\n",
    "print(f\"{x_LF.shape=}\", f\"{x_HF.shape=}\")"
   ]
  },
  {
   "cell_type": "markdown",
   "metadata": {},
   "source": [
    "### Plot data "
   ]
  },
  {
   "cell_type": "code",
   "execution_count": null,
   "metadata": {},
   "outputs": [],
   "source": [
    "plot_data(x_LF, x_HF, dataset_name)"
   ]
  },
  {
   "cell_type": "markdown",
   "metadata": {},
   "source": [
    "### Multi-fidelity model"
   ]
  },
  {
   "cell_type": "markdown",
   "metadata": {},
   "source": [
    "#### Create graph and model instances"
   ]
  },
  {
   "cell_type": "code",
   "execution_count": null,
   "metadata": {},
   "outputs": [],
   "source": [
    "# Create the graph\n",
    "graph_config = {\n",
    "    'metric': 'euclidean',\n",
    "    'dist_space': 'ambient',\n",
    "    'n_components': None,\n",
    "    'method': 'full',\n",
    "    'k_nn': None,\n",
    "    'corr_scale': None,\n",
    "    'k_adj': 7,\n",
    "    'p': 0.5,\n",
    "    'q': 0.5,\n",
    "}\n",
    "g_LF = Graph(data=x_LF, **graph_config)\n",
    "\n",
    "# Create the model \n",
    "model_config = {\n",
    "    'sigma': 0.01,\n",
    "    'method': 'full'\n",
    "}\n",
    "model = MultiFidelityModel(**model_config)"
   ]
  },
  {
   "cell_type": "markdown",
   "metadata": {},
   "source": [
    "#### Perform spectral clustering"
   ]
  },
  {
   "cell_type": "code",
   "execution_count": null,
   "metadata": {},
   "outputs": [],
   "source": [
    "n_HF = 100\n",
    "inds_train, labels = model.cluster(g_LF, n_HF)"
   ]
  },
  {
   "cell_type": "code",
   "execution_count": null,
   "metadata": {},
   "outputs": [],
   "source": [
    "plot_cluster_size_hist(labels)"
   ]
  },
  {
   "cell_type": "code",
   "execution_count": null,
   "metadata": {},
   "outputs": [],
   "source": [
    "# Plot Laplacian spectrum\n",
    "eigvals, eigvecs = g_LF.laplacian_eig()\n",
    "plot_spectrum(eigvals, 50)"
   ]
  },
  {
   "cell_type": "markdown",
   "metadata": {},
   "source": [
    "#### Split high-fidelity data"
   ]
  },
  {
   "cell_type": "code",
   "execution_count": null,
   "metadata": {},
   "outputs": [],
   "source": [
    "n_samples = x_HF.shape[0]\n",
    "inds_test = np.delete(np.arange(n_samples), inds_train)\n",
    "x_HF_train = x_HF[inds_train, :]\n",
    "x_HF_test = x_HF[inds_test, :]\n",
    "\n",
    "print(f\"{x_HF_train.shape=}\", f\"{x_HF_test.shape=}\")"
   ]
  },
  {
   "cell_type": "markdown",
   "metadata": {},
   "source": [
    "#### Fit and train the model"
   ]
  },
  {
   "cell_type": "code",
   "execution_count": null,
   "metadata": {},
   "outputs": [],
   "source": [
    "fit_model = True"
   ]
  },
  {
   "cell_type": "code",
   "execution_count": null,
   "metadata": {},
   "outputs": [],
   "source": [
    "if fit_model:\n",
    "    x_MF, C_phi, dPhi, loss_history, kappa_history = model.fit_transform(\n",
    "        g_LF,\n",
    "        x_HF_train,\n",
    "        inds_train,\n",
    "        maxiter=30,\n",
    "        step_size=25,\n",
    "        step_decay_rate=1.2,\n",
    "        ftol=1e-7,\n",
    "        verbose=True,\n",
    "    )\n",
    "    model.summary()\n",
    "\n",
    "    iterations = np.arange(len(loss_history))\n",
    "    plot_loss_and_kappa(iterations, loss_history, kappa_history)\n",
    "\n",
    "else:\n",
    "    from pathlib import Path\n",
    "\n",
    "    notebook_path = Path.cwd()\n",
    "    yaml_file_path = notebook_path.parent / 'data/model_configs.yaml'\n",
    "    model_config = load_model_config(yaml_file_path, dataset_name)\n",
    "    model = MultiFidelityModel(**model_config)\n",
    "    \n",
    "    if model_config:\n",
    "        x_MF, C_phi, dPhi = model.transform(g_LF, x_HF_train, inds_train)\n",
    "        model.summary()"
   ]
  },
  {
   "cell_type": "code",
   "execution_count": null,
   "metadata": {},
   "outputs": [],
   "source": [
    "fig, ax = plt.subplots(1, 1, figsize=(6, 4))\n",
    "ax.hist(dPhi, bins=20)\n",
    "ax.set_xlabel(\"Variance\", fontsize=14)\n",
    "ax.set_ylabel(\"Frequency\", fontsize=14)\n",
    "ax.grid(True, linestyle=\"--\", linewidth=0.5)\n",
    "plt.tight_layout()\n",
    "ax.tick_params(axis=\"both\", labelsize=12)\n",
    "ax.set_title(\"Variance histogram\", fontsize=18)"
   ]
  },
  {
   "cell_type": "markdown",
   "metadata": {},
   "source": [
    "### Results"
   ]
  },
  {
   "cell_type": "code",
   "execution_count": null,
   "metadata": {},
   "outputs": [],
   "source": [
    "# Error Analysis for unseen test datadet\n",
    "error_analysis(x_LF[inds_test], x_MF[inds_test], x_HF_test)"
   ]
  },
  {
   "cell_type": "code",
   "execution_count": null,
   "metadata": {},
   "outputs": [],
   "source": [
    "# Error Analysis for the whole dataset\n",
    "error_analysis(x_LF, x_MF, x_HF)"
   ]
  },
  {
   "cell_type": "code",
   "execution_count": null,
   "metadata": {},
   "outputs": [],
   "source": [
    "E_LF = 100 * np.linalg.norm(x_LF - x_HF, axis=1) / (np.mean(np.linalg.norm(x_HF, axis=1)) + 1e-3)\n",
    "E_MF = 100 * np.linalg.norm(x_MF - x_HF, axis=1) / (np.mean(np.linalg.norm(x_HF, axis=1)) + 1e-3)\n",
    "\n",
    "plot_distributions(E_LF, E_MF, bins_LF=50, bins_MF=50, mask=None)"
   ]
  },
  {
   "cell_type": "code",
   "execution_count": null,
   "metadata": {},
   "outputs": [],
   "source": [
    "plot_mf_comparison(x_LF, x_MF, x_HF, dataset_name, dPhi=dPhi, inds_centroids=inds_train)"
   ]
  }
 ],
 "metadata": {
  "kernelspec": {
   "display_name": "generic-env",
   "language": "python",
   "name": "python3"
  },
  "language_info": {
   "codemirror_mode": {
    "name": "ipython",
    "version": 3
   },
   "file_extension": ".py",
   "mimetype": "text/x-python",
   "name": "python",
   "nbconvert_exporter": "python",
   "pygments_lexer": "ipython3",
   "version": "3.12.2"
  }
 },
 "nbformat": 4,
 "nbformat_minor": 2
}
